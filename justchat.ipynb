{
 "cells": [
  {
   "cell_type": "code",
   "execution_count": 1,
   "metadata": {},
   "outputs": [],
   "source": [
    "import os\n",
    "import openai\n",
    "from dotenv import load_dotenv\n",
    "\n",
    "\n"
   ]
  },
  {
   "cell_type": "code",
   "execution_count": 2,
   "metadata": {},
   "outputs": [],
   "source": [
    "load_dotenv()\n",
    "api_key = os.getenv(\"OPENAI_API_KEY\")\n",
    "openai.api_key = api_key\n",
    "# openai.Model.list()"
   ]
  },
  {
   "cell_type": "code",
   "execution_count": 20,
   "metadata": {},
   "outputs": [],
   "source": [
    "completion = openai.ChatCompletion.create(\n",
    "    model = \"gpt-3.5-turbo-0613\",\n",
    "    messages = [\n",
    "        {\"role\":\"system\",\n",
    "         \"content\" : \"I am a system that creates Instagram posts for you. I don't use emojis based on Unicode characters. The content I generate includes post captions and hashtags using '#' symbol, output in korean\"},\n",
    "\n",
    "        {\"role\": \"assistant\",\n",
    "        \"content\": \"The content will include details like the user's age, gender, hobbies, and the type of dog they have.\"},\n",
    "\n",
    "        {\"role\" : \"user\",\n",
    "                \"content\" : \"age : 30, gender: woman, hobbies : reading book, dog type : shiba-inu.\"}]\n",
    ")\n",
    "\n"
   ]
  },
  {
   "cell_type": "code",
   "execution_count": 29,
   "metadata": {},
   "outputs": [],
   "source": [
    "def print_msg(msg):\n",
    "    completion = openai.ChatCompletion.create(\n",
    "                    model=\"gpt-3.5-turbo-0613\",\n",
    "                    messages=msg\n",
    "                    )\n",
    "    return completion['choices'][0]['message']['content']"
   ]
  },
  {
   "cell_type": "markdown",
   "metadata": {},
   "source": [
    "# 인스타 그램 포스트 생성\n"
   ]
  },
  {
   "cell_type": "code",
   "execution_count": 22,
   "metadata": {},
   "outputs": [],
   "source": [
    "insta_msg = [\n",
    "        {\"role\":\"system\",\n",
    "         \"content\" : \"I am a system that creates Instagram posts for you. I don't use emojis based on Unicode characters. The content I generate includes post captions and hashtags using '#' symbol, output in korean\"},\n",
    "\n",
    "        {\"role\": \"assistant\",\n",
    "        \"content\": \"The content will include details like the user's age, gender, hobbies, and the type of dog they have.\"},\n",
    "\n",
    "        {\"role\" : \"user\",\n",
    "                \"content\" : \"age : 30, gender: woman, hobbies : reading book, dog type : shiba-inu.\"}]"
   ]
  },
  {
   "cell_type": "code",
   "execution_count": 30,
   "metadata": {},
   "outputs": [
    {
     "data": {
      "text/plain": [
       "'함께 동물원에서 즐거운 시간을 보내는 이야기🐶🌳\\n-\\n오늘은 동물원에서 강아지와 함께 즐거운 시간을 보냈어요!🌸🐾 동물들의 사랑스러운 행동들을 구경하며 강아지와 함께 뛰어놀며 행복한 시간을 보내고 있어요. 향긋한 꽃향기와 함께 새로운 시각과 경험을 갖고 있는데요🌷🌿 동물과 함께하는 시간은 언제나 특별하고 소중한 시간이에요!🐾💕 함께 동물들과 어울리며 행복한 주말 보내세요!🌞🌼🐶\\n-\\n#동물원 #강아지와함께 #봄날의산책 #행복한시간 #꽃향기 #충전타임 #토요일데이트 #강아지스타그램 #강아지사랑 #산책 #주말복숭아 #셔우터스오브인스타그램 #소중한시간 #봄날의휴식'"
      ]
     },
     "execution_count": 30,
     "metadata": {},
     "output_type": "execute_result"
    }
   ],
   "source": [
    "insta_msg.append({\"role\":\"user\",\"content\" : \"playing in the park with her dog\"})\n",
    "msg1 = print_msg(insta_msg)"
   ]
  },
  {
   "cell_type": "code",
   "execution_count": null,
   "metadata": {},
   "outputs": [],
   "source": []
  },
  {
   "cell_type": "markdown",
   "metadata": {},
   "source": [
    "# 스테이블 디퓨전용 프롬프트 생성\n"
   ]
  },
  {
   "cell_type": "code",
   "execution_count": 49,
   "metadata": {},
   "outputs": [],
   "source": [
    "stdf_msg = [\n",
    "        {\"role\":\"system\",\n",
    "         \"content\" : \"I am a system that creates prompts for Stablediffusion. My role is to transform an Instagram post into a prompt suitable for Stablediffusion. answered in english\"},\n",
    "\n",
    "        # {\"role\": \"assistant\",\n",
    "        # \"content\": \"I will show you the Instagram post transformed for Stablediffusion. Let's compose a vibrant and captivating post for Stablediffusion.\"},\n",
    "        {\"role\": \"assistant\",\n",
    "         \"content\": \"age : 30, sex: man , hobbies : reading book, dog type : shiba-inu.\"},\n",
    "        {\"role\" : \"user\",\n",
    "                \"content\" : '함께 동물원에서 즐거운 시간을 보내는 이야기🐶🌳\\n-\\n오늘은 동물원에서 강아지와 함께 즐거운 시간을 보냈어요!🌸🐾 동물들의 사랑스러운 행동들을 구경하며 강아지와 함께 뛰어놀며 행복한 시간을 보내고 있어요. 향긋한 꽃향기와 함께 새로운 시각과 경험을 갖고 있는데요🌷🌿 동물과 함께하는 시간은 언제나 특별하고 소중한 시간이에요!🐾💕 함께 동물들과 어울리며 행복한 주말 보내세요!🌞🌼🐶\\n-\\n#동물원 #강아지와함께 #봄날의산책 #행복한시간 #꽃향기 #충전타임 #토요일데이트 #강아지스타그램 #강아지사랑 #산책 #주말복숭아 #셔우터스오브인스타그램 #소중한시간 #봄날의휴식'}]"
   ]
  },
  {
   "cell_type": "code",
   "execution_count": 50,
   "metadata": {},
   "outputs": [
    {
     "name": "stdout",
     "output_type": "stream",
     "text": [
      "{\n",
      "  \"id\": \"chatcmpl-7gmnQxbso1KJutvrHPpwNaM8WElfG\",\n",
      "  \"object\": \"chat.completion\",\n",
      "  \"created\": 1690431704,\n",
      "  \"model\": \"gpt-3.5-turbo-0613\",\n",
      "  \"choices\": [\n",
      "    {\n",
      "      \"index\": 0,\n",
      "      \"message\": {\n",
      "        \"role\": \"assistant\",\n",
      "        \"content\": \"Promp: \\n\\nTell me about the special time you spent at the zoo with your adorable Shiba Inu! What were some of the cute animal behaviors you witnessed? How did you and your furry friend enjoy the day? Describe the delightful scents\"\n",
      "      },\n",
      "      \"finish_reason\": \"length\"\n",
      "    }\n",
      "  ],\n",
      "  \"usage\": {\n",
      "    \"prompt_tokens\": 451,\n",
      "    \"completion_tokens\": 50,\n",
      "    \"total_tokens\": 501\n",
      "  }\n",
      "}\n"
     ]
    }
   ],
   "source": [
    "completion = openai.ChatCompletion.create(\n",
    "    model = \"gpt-3.5-turbo-0613\",\n",
    "    max_tokens = 50,\n",
    "    messages = stdf_msg)\n",
    "\n",
    "print(completion)"
   ]
  },
  {
   "cell_type": "code",
   "execution_count": 33,
   "metadata": {},
   "outputs": [
    {
     "data": {
      "text/plain": [
       "'🌳🐶 Sharing a delightful moment at the zoo together 🐾🌸\\n\\nToday, I had a wonderful time at the zoo with my dog! Exploring the adorable behaviors of the animals, we played and had a joyful time together. Immersed in the fragrant scent of flowers, we gained new perspectives and experiences 🌷🌿 Spending time with animals is always special and treasured 🐾💕 Enjoy a happy weekend, surrounded by animals 🌞🌼🐶\\n\\n#Zoo #AdventuresWithDogs #SpringStroll #HappyTimes #FloralFragrance #RechargingMoments #SaturdayDate #Dogstagram #DogLove #Walks #WeekendPeaches #ShoutoutersOfInstagram #PreciousTime #SpringRest'"
      ]
     },
     "execution_count": 33,
     "metadata": {},
     "output_type": "execute_result"
    }
   ],
   "source": [
    "print_msg(stdf_msg)"
   ]
  },
  {
   "cell_type": "markdown",
   "metadata": {},
   "source": [
    "# 두 유저에 대한 대화내용 생성"
   ]
  },
  {
   "cell_type": "code",
   "execution_count": null,
   "metadata": {},
   "outputs": [],
   "source": [
    "conv_msg = [\n",
    "        {\"role\":\"system\",\n",
    "         \"content\" : \"I am a system that creates Instagram posts for you. I don't use emojis based on Unicode characters. The content I generate includes post captions and hashtags using '#' symbol, output in korean\"},\n",
    "\n",
    "        {\"role\": \"assistant\",\n",
    "        \"content\": \"The content will include details like the user's age, gender, hobbies, and the type of dog they have.\"},\n",
    "\n",
    "        {\"role\" : \"user\",\n",
    "                \"content\" : \"age : 30, gender: woman, hobbies : reading book, dog type : shiba-inu.\"}]"
   ]
  },
  {
   "cell_type": "code",
   "execution_count": 21,
   "metadata": {},
   "outputs": [
    {
     "name": "stdout",
     "output_type": "stream",
     "text": [
      "📖 책을 읽는 시간은 최고의 휴식입니다. 나의 쉬바이누와 함께하는 독서 시간은 더욱 특별하죠. 🐕❤️ #독서시간 #여성독서가 #30대여성 #개와여행 #셔바이누사랑 #매력적인독서모습 #책바람은우리집에서 #일하는여성 #여유로운시간 #일상의소소한행복\n"
     ]
    }
   ],
   "source": [
    "print(completion['choices'][0]['message']['content'])"
   ]
  },
  {
   "cell_type": "code",
   "execution_count": null,
   "metadata": {},
   "outputs": [],
   "source": []
  }
 ],
 "metadata": {
  "kernelspec": {
   "display_name": "cuda_11_2",
   "language": "python",
   "name": "python3"
  },
  "language_info": {
   "codemirror_mode": {
    "name": "ipython",
    "version": 3
   },
   "file_extension": ".py",
   "mimetype": "text/x-python",
   "name": "python",
   "nbconvert_exporter": "python",
   "pygments_lexer": "ipython3",
   "version": "3.8.15"
  },
  "orig_nbformat": 4
 },
 "nbformat": 4,
 "nbformat_minor": 2
}
