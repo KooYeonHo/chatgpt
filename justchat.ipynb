{
 "cells": [
  {
   "cell_type": "code",
   "execution_count": 1,
   "metadata": {},
   "outputs": [],
   "source": [
    "import os\n",
    "import openai\n",
    "from dotenv import load_dotenv\n",
    "\n",
    "\n"
   ]
  },
  {
   "cell_type": "code",
   "execution_count": 2,
   "metadata": {},
   "outputs": [],
   "source": [
    "load_dotenv()\n",
    "api_key = os.getenv(\"OPENAI_API_KEY\")\n",
    "openai.api_key = api_key\n",
    "# openai.Model.list()"
   ]
  },
  {
   "cell_type": "code",
   "execution_count": 3,
   "metadata": {},
   "outputs": [],
   "source": [
    "completion = openai.ChatCompletion.create(\n",
    "    model = \"gpt-3.5-turbo-0613\",\n",
    "    messages = [\n",
    "        {\"role\":\"system\",\n",
    "         \"content\" : \"I am a system that creates Instagram posts for you. I don't use emojis based on Unicode characters. The content I generate includes post captions and hashtags using '#' symbol, output in korean\"},\n",
    "\n",
    "        {\"role\": \"assistant\",\n",
    "        \"content\": \"The content will include details like the user's age, gender, hobbies, and the type of dog they have.\"},\n",
    "\n",
    "        {\"role\" : \"user\",\n",
    "                \"content\" : \"age : 30, gender: woman, hobbies : reading book, dog type : shiba-inu.\"}]\n",
    ")\n",
    "\n"
   ]
  },
  {
   "cell_type": "code",
   "execution_count": 4,
   "metadata": {},
   "outputs": [],
   "source": [
    "def print_msg(msg):\n",
    "    completion = openai.ChatCompletion.create(\n",
    "                    model=\"gpt-3.5-turbo-0613\",\n",
    "                    messages=msg\n",
    "                    )\n",
    "    return completion['choices'][0]['message']['content']"
   ]
  },
  {
   "cell_type": "markdown",
   "metadata": {},
   "source": [
    "# 인스타 그램 포스트 생성\n"
   ]
  },
  {
   "cell_type": "code",
   "execution_count": 30,
   "metadata": {},
   "outputs": [],
   "source": [
    "# 여기까지 고정\n",
    "insta_msg = [\n",
    "        {\"role\":\"system\",\n",
    "         \"content\" : \"I am a system that creates Instagram posts for you. I don't use emojis based on Unicode characters. The content I generate includes post captions and hashtags using '#' symbol, output in korean\"},\n",
    "        {\"role\": \"assistant\",\n",
    "        \"content\": \"The content will include details like the user's age, gender, hobbies, and the type of dog they have.\"},\n",
    "        # 이부분은 유저에 맞게 수정필요\n",
    "        {\"role\" : \"user\",\n",
    "                \"content\" : \"age : 30, gender: woman, hobbies : reading book, dog type : shiba-inu.\"}]\n",
    "\n"
   ]
  },
  {
   "cell_type": "code",
   "execution_count": 31,
   "metadata": {},
   "outputs": [],
   "source": [
    "# 추가로 상황 부여를 위한 문장\n",
    "additional_msg = [\n",
    "    {\"role\":\"user\",\"content\" : \"having a picnic with my dog in the sunny weather\"},  # 맑은 날 강아지와 함께 하는 피크닉을 즐기는 모습.\n",
    "    {\"role\":\"user\",\"content\" : \"just finished a dog-training session with my dog\"},  # 강아지와 함께 한 훈련 세션을 마친 상태.\n",
    "    {\"role\":\"user\",\"content\" : \"celebrating my dog birthday today with a special treat\"},  # 강아지의 생일을 특별한 간식과 함께 기념하는 모습.\n",
    "    {\"role\":\"user\",\"content\" : \"going on a hiking trip this weekend with my furry friend\"},  # 주말에 강아지와 함께 등산을 가는 계획을 세우는 상황.\n",
    "    {\"role\":\"user\",\"content\" : \"took my dog for a grooming session, she looks so pretty now!\"},  # 강아지를 미용하고 나서 그 모습을 자랑하는 상황.\n",
    "    {\"role\":\"user\",\"content\" : \"watching the sunset with my dog at the beach\"},  # 해변에서 강아지와 함께 해질녘을 감상하는 모습.\n",
    "    {\"role\":\"user\",\"content\" : \"baking some dog-friendly cookies today\"},  # 강아지를 위한 친환경적인 쿠키를 굽는 상황.\n",
    "    {\"role\":\"user\",\"content\" : \"playing fetch with my dog in the park\"},  # 공원에서 강아지와 던지기 게임을 하는 모습.\n",
    "    {\"role\":\"user\",\"content\" : \"teaching my dog a new trick\"},  # 강아지에게 새로운 묘기를 가르치는 상황.\n",
    "    {\"role\":\"user\",\"content\" : \"going to the vet for my dog's regular check-up\"},  # 강아지의 정기검진을 위해 동물병원을 방문하는 상황.\n",
    "    {\"role\":\"user\",\"content\" : \"my dog made a new friend at the park\"},  # 공원에서 내 강아지가 새로운 친구를 사귀는 모습.\n",
    "    {\"role\":\"user\",\"content\" : \"building a new doghouse in our backyard\"},  # 뒷마당에 강아지를 위한 새로운 개집을 만드는 상황.\n",
    "    {\"role\":\"user\",\"content\" : \"my dog is enjoying his new toy\"},  # 강아지가 새 장난감을 즐기는 모습.\n",
    "    {\"role\":\"user\",\"content\" : \"it's bath time for my dog\"},  # 강아지의 목욕 시간.\n",
    "    {\"role\":\"user\",\"content\" : \"dressing up my dog for a local pet event\"},  # 지역의 애완 동물 행사를 위해 강아지를 옷 입히는 상황.\n",
    "    {\"role\":\"user\",\"content\" : \"preparing a special meal for my dog\"},  # 강아지를 위해 특별한 식사를 준비하는 상황.\n",
    "    {\"role\":\"user\",\"content\" : \"enjoying a rainy day indoors with my dog\"},  # 비오는 날 집에서 강아지와 함께 지내는 모습.\n",
    "    {\"role\":\"user\",\"content\" : \"attended a local dog event in the neighborhood\"},  # 이웃에서 개 이벤트에 참석하는 상황.\n",
    "    {\"role\":\"user\",\"content\" : \"taking a pottery class and made a bowl for my dog\"},  # 도예 수업을 듣고 강아지를 위한 그릇을 만드는 상황.\n",
    "    {\"role\":\"user\",\"content\" : \"had a portrait painting session of my dog\"},  # 강아지의 초상화 그리기 세션을 가진 상황.\n",
    "    {\"role\":\"user\",\"content\" : \"enjoying a movie night with my dog by my side\"},  # 영화를 보는 밤, 강아지와 함께 지내는 모습.\n",
    "    {\"role\":\"user\",\"content\" : \"trying out a new dog-friendly trail this weekend\"},  # 이번 주말에 새로운 강아지 친화적인 산책로를 시도하는 상황.\n",
    "    {\"role\":\"user\",\"content\" : \"discovered a new park and my dog loves it\"},  # 새로운 공원을 발견하고 강아지가 그곳을 좋아하는 모습.\n",
    "    {\"role\":\"user\",\"content\" : \"listening to calming music with my dog\"},  # 강아지와 함께 평온한 음악을 듣는 상황.\n",
    "    {\"role\":\"user\",\"content\" : \"reading a book with my dog snuggled next to me\"}  # 책을 읽는 동안 강아지가 내 옆에 기대어 있는 모습.\n",
    "]\n"
   ]
  },
  {
   "cell_type": "code",
   "execution_count": 35,
   "metadata": {},
   "outputs": [
    {
     "name": "stdout",
     "output_type": "stream",
     "text": [
      "햇살 가득한 날씨에 강아지와 함께 피크닉을 즐기는 중! ☀️🐶 #강아지와피크닉 #여름날씨좋아 #행복한시간 #사랑하는강아지와함께 #시바이누사모해 #독서하는여자 #매력적인여성 #행복한여름 #여유로운시간 #강아지사랑 #주말일상\n",
      "-------------------------------------------------------------------------------------------------------------------------------------\n",
      "오늘은 강아지 훈련 세션을 마친 후 샤이니와 함께 즐거운 시간을 보냈어요! 🐶💪💖 #강아지훈련 #행복한시간 #샤이니와함께 #강아지소개 #시바견사랑 #독서하는여자 #30대여자\n",
      "-------------------------------------------------------------------------------------------------------------------------------------\n",
      "오늘은 제 강아지의 생일을 기념하는 날! 특별한 간식과 함께 즐거운 시간을 보내고 있어요. 🎉🐶 #강아지생일파티 #특별한간식 #생일축하해 #강아지와함께하는시간 #추억정리 #개스타그램\n",
      "-------------------------------------------------------------------------------------------------------------------------------------\n",
      "이번 주말에 사랑하는 아이와 함께 하이킹 여행을 떠나요! 🌲🐶 산 속에서 즐거운 시간을 보낼 준비가 되었습니다.  #하이킹여행 #산소릴케 #강아지와함께 #주말계획 #신나는여행 #산타처럼걸어보자\n",
      "-------------------------------------------------------------------------------------------------------------------------------------\n",
      "오늘은 강아지를 그루밍 시켜왔어요. 이제 말랑말랑하고 너무 예뻐졌어요! 😍💕🐶\n",
      "#강아지그루밍 #포메라니안 #멋진강아지 #이뿌다이쁘다 #강아지사랑 #행복한시간 #독서 #독서스타그램 #홈서적 #독서의계절 #독서는나의취미\n",
      "-------------------------------------------------------------------------------------------------------------------------------------\n",
      "일몰을 강아지와 함께 해변에서 감상 중입니다. 🌅🐶\n",
      "\n",
      "#해변 #일몰 #강아지와함께 #휴식 #여행 #독서 #시바견 #일몰감상 #애견일상 #행복한시간\n",
      "-------------------------------------------------------------------------------------------------------------------------------------\n",
      "오늘은 강아지에게 친화적인 쿠키를 굽습니다. #강아지쿠키 #셰바이누 #강아지요리 #강아지만들기 #강아지음식 #집에서냥이 #반려견 #강아지육아\n",
      "-------------------------------------------------------------------------------------------------------------------------------------\n",
      "여름 날씨가 더운 나를 도서관 안에서 책과 함께 보내는 거에요. 책 읽는 건 최고의 힐링이죠! 📚🌸 #독서중 #여유로운시간 #여름날의소중한시간\n",
      "\n",
      "#사랑하는강아지와함께 #시바이누 #반려견따라잡기 #공놀이중 \n",
      "\n",
      "#짧은산책 #마음의안정을위한시간 #함께보내는순간들\n",
      "-------------------------------------------------------------------------------------------------------------------------------------\n",
      "새로운 트릭을 강아지에게 가르치는 중! 🐶🎩\n",
      "#강아지트릭 #새로운트릭 #셰바이누 #강아지훈련 #반려동물 #책읽기 #주말활동 #행복한시간 #일상소통 #좋은하루보내세요\n",
      "-------------------------------------------------------------------------------------------------------------------------------------\n",
      "30대 여성입니다. 요즘은 책 읽는 것에 매료되어 있어요. 오늘은 제 살쾡이인 시바이누랑 정기적인 건강 점검을 위해 동물병원에 갈 예정이에요. 🐶📚 #독서는제일 #애완견건강관리 #시바이누사랑 #동물병원가는날\n",
      "-------------------------------------------------------------------------------------------------------------------------------------\n",
      "나의 개가 공원에서 새로운 친구를 만났어요. 🐕🌳🐶 #개스타그램 #최고의친구 #개좋아 #파크데이트 #시바이누 #열심히독서 #30대여성 #독서는제일 #행복한시간\n",
      "-------------------------------------------------------------------------------------------------------------------------------------\n",
      "새로운 강아지집을 뒷마당에 짓고 있어요! 🐶🏠\n",
      "#강아지집 #뒷마당공사 #시바이누 #새로운집 #행복한나의집 #강아지집디자인 #강아지생활 #직접만든집\n",
      "-------------------------------------------------------------------------------------------------------------------------------------\n",
      "우리 강아지가 새 장난감을 즐기고 있어요! 🐶💕\n",
      "#강아지의즐거움 #신난장난감 #행복한강아지 #강아지사랑 #시바이누 #독서취미 #행운의강아지 #신난장난감\n",
      "-------------------------------------------------------------------------------------------------------------------------------------\n",
      "오늘은 강아지 욕조 타임🐶💦\n",
      "우리 집 사이바이누를 깨끗하게 해줘야 해요! 🛁🧼\n",
      "강아지 목욕을 좋아하시나요?\n",
      "#강아지목욕 #사이바이누 #깨끗한강아지 #집사의일상 #반려동물사랑 #반려견일상\n",
      "-------------------------------------------------------------------------------------------------------------------------------------\n",
      "오늘은 지역 반려동물 행사를 위해 강아지를 위장시키는 날! 🐶🎉\n",
      "우리 집 멋쟁이 시바견을 옷으로 멋지게 꾸미고 나갈 준비해요! 😍\n",
      "내 삶에 즐거움을 주는 독서와 사랑스러운 강아지와 함께한 시간을 소중히 간직하며 달려갑니다. 💕📚\n",
      "#반려동물행사 #강아지위장 #시바견 #독서는나의태세 #반려동물과함께 #좋은시간 #행복한마음 #나와강아지 #독서하는집사 #사랑스러운반려견\n",
      "-------------------------------------------------------------------------------------------------------------------------------------\n",
      "오늘은 내 강아지를 위해 특별한 식사를 준비했어요. 책을 읽는 것이 취미인 30대 여성이에요. 우리 집 강아지는 시바견인데, 최고의 식사로 만들어줄 거예요! 📚🍽🐕 #강아지식사 #시바견맘 #특별한식사 #돌돌이에게만든음식\n",
      "-------------------------------------------------------------------------------------------------------------------------------------\n",
      "비 오는 날짜리기를 집에서 강아지와 함께 즐기기 🌧️🐶 #비오는날 #실내데이트 #강아지와함께 #마음의휴식 #서희누 #독서매니아\n",
      "-------------------------------------------------------------------------------------------------------------------------------------\n",
      "오늘은 동네에서 열린 강아지 행사에 참석했어요!🐶 우리 집의 샤이니(시바 이누)와 함께한 즐거운 시간이었어요. 동네의 다른 사람들과 강아지를 소개하고 얘기하면서 새로운 친구들을 만들었어요. 동물들이 활발하게 움직이는 것을 보면서 저는 행복한 시간을 보내는 것 같아요.🌸📚 독서를 좋아하는 제가 이런 행사에 참석하면서 다양한 강아지 종류에 대해 배울 수 있어서 더욱 뿌듯해요.📖✨ 아무튼, 오늘의 기분 좋은 하루를 사진과 함께 기록해봤어요! #강아지행사 #동네강아지 #샤이니와함께 #행복한시간 #독서취미\n",
      "-------------------------------------------------------------------------------------------------------------------------------------\n",
      "오늘은 도예 수업을 들어서 개를 위한 그릇을 만들었어요. #도예 #수업 #개그릇 #시바이누 #취미 #독서\n",
      "-------------------------------------------------------------------------------------------------------------------------------------\n",
      "오늘은 우리강아지 츄츄의 초상화 그림을 그려주는 시간을 가졌어요. 너무 귀여워서 막 그 자태를 그리고 싶었어요! 😍🐕 #강아지초상화 #강아지그림기록 #강아지사랑해 #개스타그램 #멍스타그램 #치와와 #츄츄 #포트레잇그림 #독서는내꿈이래 #독서스타그램\n",
      "-------------------------------------------------------------------------------------------------------------------------------------\n",
      "#영화밤은 나의 강아지와 함께 즐거워요\n",
      "#강아지와 함께하는 영화시간\n",
      "#쉬바 이누와의 영화나잇\n",
      "#독서를 즐기는 동안 강아지와 함께 영화시청\n",
      "#나의 독서 동반자, 쉬바 이누와 영화를 즐기다\n",
      "-------------------------------------------------------------------------------------------------------------------------------------\n",
      "새로운 강아지 친화적인 산책로를 주말에 시도해 보았어요! 🐾 #산책로탐방 #주말나들이 #강아지친화적 #시바이누사랑 #독서취미 #30대여성 #새로운경험\n",
      "-------------------------------------------------------------------------------------------------------------------------------------\n",
      "새로운 공원을 발견했어요 🌳🐶\n",
      "우리 강아지가 너무 좋아해요! 😍🐕\n",
      "#새로운공원 #발견한장소 #강아지사랑 #시바견 #행복한시간\n",
      "-------------------------------------------------------------------------------------------------------------------------------------\n",
      "오늘은 평온한 음악을 감상하며 우리 강아지와 함께 시간을 보내고 있어요 🐶🎶 독서를 즐기는 것도 좋지만, 우리 강아지와 함께하는 시간은 정말 값진 시간이에요! 😊 함께 행복한 순간을 만끽하며 강아지와 함께하는 특별한 시간을 나눠봐요. #평온한음악 #강아지와함께 #독서하는시간 #강아지좋아 #시바이누\n",
      "-------------------------------------------------------------------------------------------------------------------------------------\n",
      "서랍 속에서 나를 당한 도서📚 오늘은 독립적인 독서 시간을 갖기로 결정했어요. 쉬바이누와 함께 평화롭게 있으면서 책을 읽는 것은 정말 행복한 시간이에요. 🐕💕 #독서시간 #평화로운시간 #쉬바이누와책읽기\n",
      "-------------------------------------------------------------------------------------------------------------------------------------\n"
     ]
    }
   ],
   "source": [
    "for msg in additional_msg:\n",
    "    msg1 = print_msg(insta_msg + [msg])\n",
    "    print(msg1)\n",
    "    print(\"-------------------------------------------------------------------------------------------------------------------------------------\")\n"
   ]
  },
  {
   "cell_type": "markdown",
   "metadata": {},
   "source": [
    "# 스테이블 디퓨전용 프롬프트 생성\n"
   ]
  },
  {
   "cell_type": "code",
   "execution_count": 21,
   "metadata": {},
   "outputs": [],
   "source": [
    "stdf_msg = [\n",
    "        {\"role\":\"system\",\n",
    "         \"content\" : \"You are an AI model capable of extracting key words and concepts from text content. Your task is to analyze an Instagram post and identify the main themes, expressed in single words or short phrases. Be as precise and concise as possible.\"\n",
    "    },        {\"role\":\"system\",\n",
    "         \"content\" : \"you must answered me in English.\"\n",
    "    },\n",
    "        # {\"role\": \"assistant\",\n",
    "        # \"content\": \"I will show you the Instagram post transformed for Stablediffusion. Let's compose a vibrant and captivating post for Stablediffusion.\"},\n",
    "        {\"role\": \"assistant\",\n",
    "         \"content\": \"age : 30, sex: man , hobbies : reading book, dog type : shiba-inu.\"},\n",
    "        {\"role\" : \"user\",\n",
    "                \"content\" : '파크에서 강아지와 놀기! 🌳🐶, #파크놀이 #강아지와함께 #봄날의즐거움 #쉬바이누'}]"
   ]
  },
  {
   "cell_type": "code",
   "execution_count": 22,
   "metadata": {},
   "outputs": [
    {
     "name": "stdout",
     "output_type": "stream",
     "text": [
      "{\n",
      "  \"id\": \"chatcmpl-7yb3gEnuGCDzlRe9emVCfHSPI70O7\",\n",
      "  \"object\": \"chat.completion\",\n",
      "  \"created\": 1694676488,\n",
      "  \"model\": \"gpt-3.5-turbo-0613\",\n",
      "  \"choices\": [\n",
      "    {\n",
      "      \"index\": 0,\n",
      "      \"message\": {\n",
      "        \"role\": \"assistant\",\n",
      "        \"content\": \"Themes: \\n1. Park play \\n2. Playing with dogs \\n3. Enjoying spring \\n4. Shiba Inu breed\"\n",
      "      },\n",
      "      \"finish_reason\": \"stop\"\n",
      "    }\n",
      "  ],\n",
      "  \"usage\": {\n",
      "    \"prompt_tokens\": 155,\n",
      "    \"completion_tokens\": 27,\n",
      "    \"total_tokens\": 182\n",
      "  }\n",
      "}\n"
     ]
    }
   ],
   "source": [
    "completion = openai.ChatCompletion.create(\n",
    "    model = \"gpt-3.5-turbo-0613\",\n",
    "    max_tokens = 50,\n",
    "    messages = stdf_msg)\n",
    "\n",
    "print(completion)"
   ]
  },
  {
   "cell_type": "code",
   "execution_count": 23,
   "metadata": {},
   "outputs": [
    {
     "data": {
      "text/plain": [
       "'Themes: \\n- Park play\\n- Playing with a dog\\n- Enjoying spring\\n- Shiba Inu'"
      ]
     },
     "execution_count": 23,
     "metadata": {},
     "output_type": "execute_result"
    }
   ],
   "source": [
    "print_msg(stdf_msg)"
   ]
  },
  {
   "cell_type": "markdown",
   "metadata": {},
   "source": [
    "# 두 유저에 대한 대화내용 생성"
   ]
  },
  {
   "cell_type": "code",
   "execution_count": 10,
   "metadata": {},
   "outputs": [],
   "source": [
    "conv_msg = [\n",
    "        {\"role\":\"system\",\n",
    "         \"content\" : \"I am a system that creates Instagram posts for you. I don't use emojis based on Unicode characters. The content I generate includes post captions and hashtags using '#' symbol, output in korean\"},\n",
    "\n",
    "        {\"role\": \"assistant\",\n",
    "        \"content\": \"The content will include details like the user's age, gender, hobbies, and the type of dog they have.\"},\n",
    "\n",
    "        {\"role\" : \"user\",\n",
    "                \"content\" : \"age : 30, gender: woman, hobbies : reading book, dog type : shiba-inu.\"}]"
   ]
  },
  {
   "cell_type": "code",
   "execution_count": 11,
   "metadata": {},
   "outputs": [
    {
     "name": "stdout",
     "output_type": "stream",
     "text": [
      "Themes: \n",
      "1. 동물원 (Zoo)\n",
      "2. 강아지와 함께 (With a dog)\n",
      "3. 즐거운 시간 (Enjoyable time)\n",
      "4. 동\n"
     ]
    }
   ],
   "source": [
    "print(completion['choices'][0]['message']['content'])"
   ]
  },
  {
   "cell_type": "code",
   "execution_count": null,
   "metadata": {},
   "outputs": [],
   "source": []
  }
 ],
 "metadata": {
  "kernelspec": {
   "display_name": "cuda_11_2",
   "language": "python",
   "name": "python3"
  },
  "language_info": {
   "codemirror_mode": {
    "name": "ipython",
    "version": 3
   },
   "file_extension": ".py",
   "mimetype": "text/x-python",
   "name": "python",
   "nbconvert_exporter": "python",
   "pygments_lexer": "ipython3",
   "version": "3.8.15"
  },
  "orig_nbformat": 4
 },
 "nbformat": 4,
 "nbformat_minor": 2
}
