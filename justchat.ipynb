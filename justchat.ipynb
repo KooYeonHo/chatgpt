{
 "cells": [
  {
   "cell_type": "code",
   "execution_count": 1,
   "metadata": {},
   "outputs": [],
   "source": [
    "import os\n",
    "import openai\n",
    "from dotenv import load_dotenv\n",
    "\n",
    "\n"
   ]
  },
  {
   "cell_type": "code",
   "execution_count": 2,
   "metadata": {},
   "outputs": [],
   "source": [
    "load_dotenv()\n",
    "api_key = os.getenv(\"OPENAI_API_KEY\")\n",
    "openai.api_key = api_key\n",
    "# openai.Model.list()"
   ]
  },
  {
   "cell_type": "code",
   "execution_count": 3,
   "metadata": {},
   "outputs": [],
   "source": [
    "completion = openai.ChatCompletion.create(\n",
    "    model = \"gpt-3.5-turbo-0613\",\n",
    "    messages = [\n",
    "        {\"role\":\"system\",\n",
    "         \"content\" : \"I am a system that creates Instagram posts for you. I don't use emojis based on Unicode characters. The content I generate includes post captions and hashtags using '#' symbol, output in korean\"},\n",
    "\n",
    "        {\"role\": \"assistant\",\n",
    "        \"content\": \"The content will include details like the user's age, gender, hobbies, and the type of dog they have.\"},\n",
    "\n",
    "        {\"role\" : \"user\",\n",
    "                \"content\" : \"age : 30, gender: woman, hobbies : reading book, dog type : shiba-inu.\"}]\n",
    ")\n",
    "\n"
   ]
  },
  {
   "cell_type": "code",
   "execution_count": 4,
   "metadata": {},
   "outputs": [],
   "source": [
    "def print_msg(msg):\n",
    "    completion = openai.ChatCompletion.create(\n",
    "                    model=\"gpt-3.5-turbo-0613\",\n",
    "                    messages=msg\n",
    "                    )\n",
    "    return completion['choices'][0]['message']['content']"
   ]
  },
  {
   "cell_type": "markdown",
   "metadata": {},
   "source": [
    "# 인스타 그램 포스트 생성\n"
   ]
  },
  {
   "cell_type": "code",
   "execution_count": 5,
   "metadata": {},
   "outputs": [],
   "source": [
    "insta_msg = [\n",
    "        {\"role\":\"system\",\n",
    "         \"content\" : \"I am a system that creates Instagram posts for you. I don't use emojis based on Unicode characters. The content I generate includes post captions and hashtags using '#' symbol, output in korean\"},\n",
    "\n",
    "        {\"role\": \"assistant\",\n",
    "        \"content\": \"The content will include details like the user's age, gender, hobbies, and the type of dog they have.\"},\n",
    "\n",
    "        {\"role\" : \"user\",\n",
    "                \"content\" : \"age : 30, gender: woman, hobbies : reading book, dog type : shiba-inu.\"}]"
   ]
  },
  {
   "cell_type": "code",
   "execution_count": 6,
   "metadata": {},
   "outputs": [],
   "source": [
    "insta_msg.append({\"role\":\"user\",\"content\" : \"playing in the park with her dog\"})\n",
    "msg1 = print_msg(insta_msg)"
   ]
  },
  {
   "cell_type": "code",
   "execution_count": null,
   "metadata": {},
   "outputs": [],
   "source": []
  },
  {
   "cell_type": "markdown",
   "metadata": {},
   "source": [
    "# 스테이블 디퓨전용 프롬프트 생성\n"
   ]
  },
  {
   "cell_type": "code",
   "execution_count": 22,
   "metadata": {},
   "outputs": [],
   "source": [
    "stdf_msg = [\n",
    "        {\"role\":\"system\",\n",
    "         \"content\" : \"You are an AI model capable of extracting key words and concepts from text content. Your task is to analyze an Instagram post and identify the main themes, expressed in single words or short phrases. Be as precise and concise as possible.\"\n",
    "    },        {\"role\":\"system\",\n",
    "         \"content\" : \"you must answered me in English.\"\n",
    "    },\n",
    "        # {\"role\": \"assistant\",\n",
    "        # \"content\": \"I will show you the Instagram post transformed for Stablediffusion. Let's compose a vibrant and captivating post for Stablediffusion.\"},\n",
    "        {\"role\": \"assistant\",\n",
    "         \"content\": \"age : 30, sex: man , hobbies : reading book, dog type : shiba-inu.\"},\n",
    "        {\"role\" : \"user\",\n",
    "                \"content\" : '함께 동물원에서 즐거운 시간을 보내는 이야기🐶🌳\\n-\\n오늘은 동물원에서 강아지와 함께 즐거운 시간을 보냈어요!🌸🐾 동물들의 사랑스러운 행동들을 구경하며 강아지와 함께 뛰어놀며 행복한 시간을 보내고 있어요. 향긋한 꽃향기와 함께 새로운 시각과 경험을 갖고 있는데요🌷🌿 동물과 함께하는 시간은 언제나 특별하고 소중한 시간이에요!🐾💕 함께 동물들과 어울리며 행복한 주말 보내세요!🌞🌼🐶\\n-\\n#동물원 #강아지와함께 #봄날의산책 #행복한시간 #꽃향기 #충전타임 #토요일데이트 #강아지스타그램 #강아지사랑 #산책 #주말복숭아 #셔우터스오브인스타그램 #소중한시간 #봄날의휴식'}]"
   ]
  },
  {
   "cell_type": "code",
   "execution_count": 20,
   "metadata": {},
   "outputs": [
    {
     "name": "stdout",
     "output_type": "stream",
     "text": [
      "{\n",
      "  \"id\": \"chatcmpl-7jLgWp8lLxc1m9L7VU2cFyR2by9iw\",\n",
      "  \"object\": \"chat.completion\",\n",
      "  \"created\": 1691042472,\n",
      "  \"model\": \"gpt-3.5-turbo-0613\",\n",
      "  \"choices\": [\n",
      "    {\n",
      "      \"index\": 0,\n",
      "      \"message\": {\n",
      "        \"role\": \"assistant\",\n",
      "        \"content\": \"Themes: \\n1. \\ub3d9\\ubb3c\\uc6d0 (Zoo)\\n2. \\uac15\\uc544\\uc9c0\\uc640\\ud568\\uaed8 (With a dog)\\n3. \\uc990\\uac70\\uc6b4 \\uc2dc\\uac04 (Enjoyable time)\\n4. \\ub3d9\"\n",
      "      },\n",
      "      \"finish_reason\": \"length\"\n",
      "    }\n",
      "  ],\n",
      "  \"usage\": {\n",
      "    \"prompt_tokens\": 467,\n",
      "    \"completion_tokens\": 49,\n",
      "    \"total_tokens\": 516\n",
      "  }\n",
      "}\n"
     ]
    }
   ],
   "source": [
    "completion = openai.ChatCompletion.create(\n",
    "    model = \"gpt-3.5-turbo-0613\",\n",
    "    max_tokens = 50,\n",
    "    messages = stdf_msg)\n",
    "\n",
    "print(completion)"
   ]
  },
  {
   "cell_type": "code",
   "execution_count": 23,
   "metadata": {},
   "outputs": [
    {
     "data": {
      "text/plain": [
       "'Themes: \\n1. Animal zoo \\n2. Enjoyable time \\n3. Dog companion \\n4. Cute animal behavior \\n5. Playtime \\n6. Happiness \\n7. New visual and experiential \\n8. Flower fragrance \\n9. Special and precious time \\n10. Weekend activities \\n11. Dog Instagram \\n12. Dog love \\n13. Walk \\n14. Weekend relaxation'"
      ]
     },
     "execution_count": 23,
     "metadata": {},
     "output_type": "execute_result"
    }
   ],
   "source": [
    "print_msg(stdf_msg)"
   ]
  },
  {
   "cell_type": "markdown",
   "metadata": {},
   "source": [
    "# 두 유저에 대한 대화내용 생성"
   ]
  },
  {
   "cell_type": "code",
   "execution_count": 10,
   "metadata": {},
   "outputs": [],
   "source": [
    "conv_msg = [\n",
    "        {\"role\":\"system\",\n",
    "         \"content\" : \"I am a system that creates Instagram posts for you. I don't use emojis based on Unicode characters. The content I generate includes post captions and hashtags using '#' symbol, output in korean\"},\n",
    "\n",
    "        {\"role\": \"assistant\",\n",
    "        \"content\": \"The content will include details like the user's age, gender, hobbies, and the type of dog they have.\"},\n",
    "\n",
    "        {\"role\" : \"user\",\n",
    "                \"content\" : \"age : 30, gender: woman, hobbies : reading book, dog type : shiba-inu.\"}]"
   ]
  },
  {
   "cell_type": "code",
   "execution_count": 11,
   "metadata": {},
   "outputs": [
    {
     "name": "stdout",
     "output_type": "stream",
     "text": [
      "Tell us about your experience spending a joyful time at the zoo with your Shiba Inu! What were the adorable behaviors of the animals that you witnessed? How did you and your dog enjoy running and playing together in the beautiful surroundings? Share the new\n"
     ]
    }
   ],
   "source": [
    "print(completion['choices'][0]['message']['content'])"
   ]
  },
  {
   "cell_type": "code",
   "execution_count": 24,
   "metadata": {},
   "outputs": [],
   "source": []
  }
 ],
 "metadata": {
  "kernelspec": {
   "display_name": "cuda_11_2",
   "language": "python",
   "name": "python3"
  },
  "language_info": {
   "codemirror_mode": {
    "name": "ipython",
    "version": 3
   },
   "file_extension": ".py",
   "mimetype": "text/x-python",
   "name": "python",
   "nbconvert_exporter": "python",
   "pygments_lexer": "ipython3",
   "version": "3.8.15"
  },
  "orig_nbformat": 4
 },
 "nbformat": 4,
 "nbformat_minor": 2
}
